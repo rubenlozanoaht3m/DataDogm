{
 "cells": [
  {
   "cell_type": "markdown",
   "metadata": {},
   "source": [
    "# Model Management Demo"
   ]
  },
  {
   "cell_type": "markdown",
   "metadata": {},
   "source": [
    "Make sure you have successfully run at least one training demo, and markdown the models trained"
   ]
  },
  {
   "cell_type": "code",
   "execution_count": 3,
   "metadata": {},
   "outputs": [],
   "source": [
    "import fml_manager\n",
    "import json, time, requests\n",
    "import os"
   ]
  },
  {
   "cell_type": "markdown",
   "metadata": {},
   "source": [
    "Print existed model, the API is: ```print_model_version(self, role, party_id, model_id)```"
   ]
  },
  {
   "cell_type": "code",
   "execution_count": 6,
   "metadata": {},
   "outputs": [
    {
     "name": "stdout",
     "output_type": "stream",
     "text": [
      "Success!\n",
      "{\n",
      "    \"data\": [\n",
      "        {\n",
      "            \"commitId\": \"2020041711064926536612\",\n",
      "            \"log\": \"[AUTO] save model at 2020-04-17 11:07:05.362382.\",\n",
      "            \"name\": \"2020041711064926536612\",\n",
      "            \"namespace\": \"guest#10000#guest-10000#host-10000#model\",\n",
      "            \"parent\": \"2020041711055647106311\",\n",
      "            \"tag\": null\n",
      "        },\n",
      "        {\n",
      "            \"commitId\": \"2020041711055647106311\",\n",
      "            \"log\": \"[AUTO] save model at 2020-04-17 11:06:13.158224.\",\n",
      "            \"name\": \"2020041711055647106311\",\n",
      "            \"namespace\": \"guest#10000#guest-10000#host-10000#model\",\n",
      "            \"parent\": \"2020041710553246126110\",\n",
      "            \"tag\": null\n",
      "        },\n",
      "        {\n",
      "            \"commitId\": \"2020041710553246126110\",\n",
      "            \"log\": \"[AUTO] save model at 2020-04-17 10:55:47.541256.\",\n",
      "            \"name\": \"2020041710553246126110\",\n",
      "            \"namespace\": \"guest#10000#guest-10000#host-10000#model\",\n",
      "            \"parent\": \"202004171055092925259\",\n",
      "            \"tag\": null\n",
      "        },\n",
      "        {\n",
      "            \"commitId\": \"202004171055092925259\",\n",
      "            \"log\": \"[AUTO] save model at 2020-04-17 10:55:28.131833.\",\n",
      "            \"name\": \"202004171055092925259\",\n",
      "            \"namespace\": \"guest#10000#guest-10000#host-10000#model\",\n",
      "            \"parent\": \"202004170628005582918\",\n",
      "            \"tag\": null\n",
      "        },\n",
      "        {\n",
      "            \"commitId\": \"202004170628005582918\",\n",
      "            \"log\": \"[AUTO] save model at 2020-04-17 06:28:16.931751.\",\n",
      "            \"name\": \"202004170628005582918\",\n",
      "            \"namespace\": \"guest#10000#guest-10000#host-10000#model\",\n",
      "            \"parent\": \"202004170626510410387\",\n",
      "            \"tag\": null\n",
      "        },\n",
      "        {\n",
      "            \"commitId\": \"202004170626510410387\",\n",
      "            \"log\": \"[AUTO] save model at 2020-04-17 06:27:07.568908.\",\n",
      "            \"name\": \"202004170626510410387\",\n",
      "            \"namespace\": \"guest#10000#guest-10000#host-10000#model\",\n",
      "            \"parent\": \"202004170618240527266\",\n",
      "            \"tag\": null\n",
      "        },\n",
      "        {\n",
      "            \"commitId\": \"202004170618240527266\",\n",
      "            \"log\": \"[AUTO] save model at 2020-04-17 06:18:45.157164.\",\n",
      "            \"name\": \"202004170618240527266\",\n",
      "            \"namespace\": \"guest#10000#guest-10000#host-10000#model\",\n",
      "            \"parent\": \"202004161133080704975\",\n",
      "            \"tag\": null\n",
      "        },\n",
      "        {\n",
      "            \"commitId\": \"202004161133080704975\",\n",
      "            \"log\": \"[AUTO] save model at 2020-04-16 11:33:26.404358.\",\n",
      "            \"name\": \"202004161133080704975\",\n",
      "            \"namespace\": \"guest#10000#guest-10000#host-10000#model\",\n",
      "            \"parent\": \"202004161127130298064\",\n",
      "            \"tag\": null\n",
      "        },\n",
      "        {\n",
      "            \"commitId\": \"202004161127130298064\",\n",
      "            \"log\": \"[AUTO] save model at 2020-04-16 11:27:31.386004.\",\n",
      "            \"name\": \"202004161127130298064\",\n",
      "            \"namespace\": \"guest#10000#guest-10000#host-10000#model\",\n",
      "            \"parent\": \"202004160709541322103\",\n",
      "            \"tag\": null\n",
      "        },\n",
      "        {\n",
      "            \"commitId\": \"202004160709541322103\",\n",
      "            \"log\": \"[AUTO] save model at 2020-04-16 07:10:15.406020.\",\n",
      "            \"name\": \"202004160709541322103\",\n",
      "            \"namespace\": \"guest#10000#guest-10000#host-10000#model\",\n",
      "            \"parent\": \"202004151357032517482\",\n",
      "            \"tag\": null\n",
      "        }\n",
      "    ],\n",
      "    \"retcode\": 0,\n",
      "    \"retmsg\": \"success\"\n",
      "}\n"
     ]
    }
   ],
   "source": [
    "manager = fml_manager.FMLManager()\n",
    "response = manager.print_model_version(\"guest\",\"10000\",\"guest-10000#host-10000#model\")"
   ]
  },
  {
   "cell_type": "markdown",
   "metadata": {},
   "source": [
    "Download the model, the API is ```transfer_model(self, role, party_id, model_id, model_version)```"
   ]
  },
  {
   "cell_type": "code",
   "execution_count": 7,
   "metadata": {},
   "outputs": [
    {
     "name": "stdout",
     "output_type": "stream",
     "text": [
      "{\"data\":{\"pipeline.pipeline:Pipeline\":\"CpIBeyJjb21wb25lbnRzIjogeyJzZWN1cmVfYWRkX2V4YW1wbGVfMCI6IHsibW9kdWxlIjogIlNlY3VyZUFkZEV4YW1wbGUiLCAiQ29kZVBhdGgiOiAiZmVkZXJhdGVkbWwvdG95X2V4YW1wbGUvc2VjdXJlX2FkZF9ndWVzdC5weS9TZWN1cmVBZGRHdWVzdCJ9fX0SSHsiY29tcG9uZW50cyI6IHsic2VjdXJlX2FkZF9leGFtcGxlXzAiOiB7Im1vZHVsZSI6ICJTZWN1cmVBZGRFeGFtcGxlIn19fRqtA3siaW5pdGlhdG9yIjogeyJyb2xlIjogImd1ZXN0IiwgInBhcnR5X2lkIjogMTAwMDB9LCAiam9iX3BhcmFtZXRlcnMiOiB7IndvcmtfbW9kZSI6IDEsICJtb2RlbF9pZCI6ICJndWVzdC0xMDAwMCNob3N0LTEwMDAwI21vZGVsIiwgIm1vZGVsX3ZlcnNpb24iOiAiMjAyMDA0MTcwNjI4MDA1NTgyOTE4In0sICJyb2xlIjogeyJndWVzdCI6IFsxMDAwMF0sICJob3N0IjogWzEwMDAwXX0sICJyb2xlX3BhcmFtZXRlcnMiOiB7Imd1ZXN0IjogeyJzZWN1cmVfYWRkX2V4YW1wbGVfMCI6IHsic2VlZCI6IFsxMjNdfX0sICJob3N0IjogeyJzZWN1cmVfYWRkX2V4YW1wbGVfMCI6IHsic2VlZCI6IFszMjFdfX19LCAiYWxnb3JpdGhtX3BhcmFtZXRlcnMiOiB7InNlY3VyZV9hZGRfZXhhbXBsZV8wIjogeyJwYXJ0aXRpb24iOiAxMCwgImRhdGFfbnVtIjogMTAwMH19fQ==\"},\"retcode\":0,\"retmsg\":\"success\"}\n",
      "\n"
     ]
    },
    {
     "data": {
      "text/plain": [
       "'{\"data\":{\"pipeline.pipeline:Pipeline\":\"CpIBeyJjb21wb25lbnRzIjogeyJzZWN1cmVfYWRkX2V4YW1wbGVfMCI6IHsibW9kdWxlIjogIlNlY3VyZUFkZEV4YW1wbGUiLCAiQ29kZVBhdGgiOiAiZmVkZXJhdGVkbWwvdG95X2V4YW1wbGUvc2VjdXJlX2FkZF9ndWVzdC5weS9TZWN1cmVBZGRHdWVzdCJ9fX0SSHsiY29tcG9uZW50cyI6IHsic2VjdXJlX2FkZF9leGFtcGxlXzAiOiB7Im1vZHVsZSI6ICJTZWN1cmVBZGRFeGFtcGxlIn19fRqtA3siaW5pdGlhdG9yIjogeyJyb2xlIjogImd1ZXN0IiwgInBhcnR5X2lkIjogMTAwMDB9LCAiam9iX3BhcmFtZXRlcnMiOiB7IndvcmtfbW9kZSI6IDEsICJtb2RlbF9pZCI6ICJndWVzdC0xMDAwMCNob3N0LTEwMDAwI21vZGVsIiwgIm1vZGVsX3ZlcnNpb24iOiAiMjAyMDA0MTcwNjI4MDA1NTgyOTE4In0sICJyb2xlIjogeyJndWVzdCI6IFsxMDAwMF0sICJob3N0IjogWzEwMDAwXX0sICJyb2xlX3BhcmFtZXRlcnMiOiB7Imd1ZXN0IjogeyJzZWN1cmVfYWRkX2V4YW1wbGVfMCI6IHsic2VlZCI6IFsxMjNdfX0sICJob3N0IjogeyJzZWN1cmVfYWRkX2V4YW1wbGVfMCI6IHsic2VlZCI6IFszMjFdfX19LCAiYWxnb3JpdGhtX3BhcmFtZXRlcnMiOiB7InNlY3VyZV9hZGRfZXhhbXBsZV8wIjogeyJwYXJ0aXRpb24iOiAxMCwgImRhdGFfbnVtIjogMTAwMH19fQ==\"},\"retcode\":0,\"retmsg\":\"success\"}\\n'"
      ]
     },
     "execution_count": 7,
     "metadata": {},
     "output_type": "execute_result"
    }
   ],
   "source": [
    "response = manager.transfer_model(\"guest\",\"10000\",\"guest-10000#host-10000#model\",\"202004170628005582918\")\n",
    "manager.prettify(response.text,True)"
   ]
  },
  {
   "cell_type": "code",
   "execution_count": 11,
   "metadata": {},
   "outputs": [
    {
     "name": "stdout",
     "output_type": "stream",
     "text": [
      "Success!\n",
      "{\n",
      "    \"data\": [\n",
      "        {\n",
      "            \"f_create_time\": 1587104880561,\n",
      "            \"f_current_steps\": null,\n",
      "            \"f_current_tasks\": null,\n",
      "            \"f_description\": \"\",\n",
      "            \"f_dsl\": \"{\\\"components\\\": {\\\"secure_add_example_0\\\": {\\\"module\\\": \\\"SecureAddExample\\\"}}}\",\n",
      "            \"f_elapsed\": null,\n",
      "            \"f_end_time\": null,\n",
      "            \"f_initiator_party_id\": \"10000\",\n",
      "            \"f_is_initiator\": 1,\n",
      "            \"f_job_id\": \"202004170628005582918\",\n",
      "            \"f_name\": \"\",\n",
      "            \"f_party_id\": \"10000\",\n",
      "            \"f_progress\": 0,\n",
      "            \"f_role\": \"guest\",\n",
      "            \"f_roles\": \"{\\\"guest\\\": [10000], \\\"host\\\": [10000]}\",\n",
      "            \"f_run_ip\": \"172.17.0.12:9380\",\n",
      "            \"f_runtime_conf\": \"{\\\"initiator\\\": {\\\"role\\\": \\\"guest\\\", \\\"party_id\\\": 10000}, \\\"job_parameters\\\": {\\\"work_mode\\\": 1, \\\"model_id\\\": \\\"guest-10000#host-10000#model\\\", \\\"model_version\\\": \\\"202004170628005582918\\\"}, \\\"role\\\": {\\\"guest\\\": [10000], \\\"host\\\": [10000]}, \\\"role_parameters\\\": {\\\"guest\\\": {\\\"secure_add_example_0\\\": {\\\"seed\\\": [123]}}, \\\"host\\\": {\\\"secure_add_example_0\\\": {\\\"seed\\\": [321]}}}, \\\"algorithm_parameters\\\": {\\\"secure_add_example_0\\\": {\\\"partition\\\": 10, \\\"data_num\\\": 1000}}}\",\n",
      "            \"f_start_time\": 1587104880749,\n",
      "            \"f_status\": \"running\",\n",
      "            \"f_tag\": \"\",\n",
      "            \"f_train_runtime_conf\": \"{}\",\n",
      "            \"f_update_time\": 1587104880749,\n",
      "            \"f_work_mode\": 1\n",
      "        },\n",
      "        {\n",
      "            \"f_create_time\": 1587104880561,\n",
      "            \"f_current_steps\": null,\n",
      "            \"f_current_tasks\": null,\n",
      "            \"f_description\": \"\",\n",
      "            \"f_dsl\": \"{\\\"components\\\": {\\\"secure_add_example_0\\\": {\\\"module\\\": \\\"SecureAddExample\\\"}}}\",\n",
      "            \"f_elapsed\": null,\n",
      "            \"f_end_time\": null,\n",
      "            \"f_initiator_party_id\": \"10000\",\n",
      "            \"f_is_initiator\": 0,\n",
      "            \"f_job_id\": \"202004170628005582918\",\n",
      "            \"f_name\": \"\",\n",
      "            \"f_party_id\": \"10000\",\n",
      "            \"f_progress\": 0,\n",
      "            \"f_role\": \"host\",\n",
      "            \"f_roles\": \"{\\\"guest\\\": [10000], \\\"host\\\": [10000]}\",\n",
      "            \"f_run_ip\": \"172.17.0.12:9380\",\n",
      "            \"f_runtime_conf\": \"{\\\"initiator\\\": {\\\"role\\\": \\\"guest\\\", \\\"party_id\\\": 10000}, \\\"job_parameters\\\": {\\\"work_mode\\\": 1, \\\"model_id\\\": \\\"guest-10000#host-10000#model\\\", \\\"model_version\\\": \\\"202004170628005582918\\\"}, \\\"role\\\": {\\\"guest\\\": [10000], \\\"host\\\": [10000]}, \\\"role_parameters\\\": {\\\"guest\\\": {\\\"secure_add_example_0\\\": {\\\"seed\\\": [123]}}, \\\"host\\\": {\\\"secure_add_example_0\\\": {\\\"seed\\\": [321]}}}, \\\"algorithm_parameters\\\": {\\\"secure_add_example_0\\\": {\\\"partition\\\": 10, \\\"data_num\\\": 1000}}}\",\n",
      "            \"f_start_time\": 1587104880749,\n",
      "            \"f_status\": \"running\",\n",
      "            \"f_tag\": \"\",\n",
      "            \"f_train_runtime_conf\": \"{}\",\n",
      "            \"f_update_time\": 1587104880749,\n",
      "            \"f_work_mode\": 1\n",
      "        }\n",
      "    ],\n",
      "    \"retcode\": 0,\n",
      "    \"retmsg\": \"success\"\n",
      "}\n"
     ]
    },
    {
     "data": {
      "text/plain": [
       "<Response [200]>"
      ]
     },
     "execution_count": 11,
     "metadata": {},
     "output_type": "execute_result"
    }
   ],
   "source": [
    "query_condition = {\n",
    "    \"job_id\":jobid\n",
    "}\n",
    "job_status = manager.query_job(query_condition)\n",
    "manager.prettify(job_status, True)"
   ]
  },
  {
   "cell_type": "code",
   "execution_count": 12,
   "metadata": {},
   "outputs": [
    {
     "name": "stdout",
     "output_type": "stream",
     "text": [
      "running\n",
      "running\n",
      "running\n",
      "running\n",
      "running\n",
      "running\n",
      "running\n",
      "running\n",
      "running\n",
      "running\n",
      "success\n",
      "Success\n"
     ]
    }
   ],
   "source": [
    "for i in range(500):\n",
    "    time.sleep(1)\n",
    "    job_detail = manager.query_job(query_condition).json()\n",
    "    final_status = job_detail[\"data\"][0][\"f_status\"]\n",
    "    print(final_status)\n",
    "    \n",
    "    if final_status == \"failed\":\n",
    "        print(\"Failed\")\n",
    "        break\n",
    "    if final_status == \"success\":\n",
    "        print(\"Success\")\n",
    "        break"
   ]
  },
  {
   "cell_type": "code",
   "execution_count": 13,
   "metadata": {},
   "outputs": [
    {
     "name": "stdout",
     "output_type": "stream",
     "text": [
      "{'retcode': 0, 'directory': './job_202004170628005582918_log', 'retmsg': 'download successfully, please check ./job_202004170628005582918_log directory, file name is job_202004170628005582918_log.tar.gz'}\n"
     ]
    }
   ],
   "source": [
    "response = manager.fetch_job_log(jobid)"
   ]
  },
  {
   "cell_type": "code",
   "execution_count": null,
   "metadata": {},
   "outputs": [],
   "source": []
  }
 ],
 "metadata": {
  "kernelspec": {
   "display_name": "Python 3",
   "language": "python",
   "name": "python3"
  },
  "language_info": {
   "codemirror_mode": {
    "name": "ipython",
    "version": 3
   },
   "file_extension": ".py",
   "mimetype": "text/x-python",
   "name": "python",
   "nbconvert_exporter": "python",
   "pygments_lexer": "ipython3",
   "version": "3.6.5"
  }
 },
 "nbformat": 4,
 "nbformat_minor": 2
}
