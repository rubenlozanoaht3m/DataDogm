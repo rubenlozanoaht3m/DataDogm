{
 "cells": [
  {
   "cell_type": "markdown",
   "metadata": {},
   "source": [
    "# Submit Training Job by Files"
   ]
  },
  {
   "cell_type": "code",
   "execution_count": 1,
   "metadata": {},
   "outputs": [],
   "source": [
    "import fml_manager\n",
    "import json, time, requests\n",
    "import os"
   ]
  },
  {
   "cell_type": "code",
   "execution_count": 2,
   "metadata": {},
   "outputs": [],
   "source": [
    "dsl_path=\"./toy_example_dsl.json\"\n",
    "config_path=\"./toy_example_conf.json\"\n",
    "manager = fml_manager.FMLManager()\n",
    "response = manager.submit_job_by_files(dsl_path,config_path)"
   ]
  },
  {
   "cell_type": "code",
   "execution_count": 3,
   "metadata": {},
   "outputs": [
    {
     "name": "stdout",
     "output_type": "stream",
     "text": [
      "Success!\n",
      "{\n",
      "    \"data\": {\n",
      "        \"board_url\": \"http://fateboard:8080/index.html#/dashboard?job_id=2020041711055647106311&role=guest&party_id=10000\",\n",
      "        \"job_dsl_path\": \"/data/projects/fate/python/jobs/2020041711055647106311/job_dsl.json\",\n",
      "        \"job_runtime_conf_path\": \"/data/projects/fate/python/jobs/2020041711055647106311/job_runtime_conf.json\",\n",
      "        \"logs_directory\": \"/data/projects/fate/python/logs/2020041711055647106311\",\n",
      "        \"model_info\": {\n",
      "            \"model_id\": \"guest-10000#host-10000#model\",\n",
      "            \"model_version\": \"2020041711055647106311\"\n",
      "        }\n",
      "    },\n",
      "    \"jobId\": \"2020041711055647106311\",\n",
      "    \"retcode\": 0,\n",
      "    \"retmsg\": \"success\"\n",
      "}\n"
     ]
    }
   ],
   "source": [
    "manager.prettify(response, True)\n",
    "stdout = json.loads(response.content)\n",
    "jobid = stdout[\"jobId\"]"
   ]
  },
  {
   "cell_type": "code",
   "execution_count": 4,
   "metadata": {},
   "outputs": [
    {
     "name": "stdout",
     "output_type": "stream",
     "text": [
      "Success!\n",
      "{\n",
      "    \"data\": [\n",
      "        {\n",
      "            \"f_create_time\": 1587121556476,\n",
      "            \"f_current_steps\": null,\n",
      "            \"f_current_tasks\": null,\n",
      "            \"f_description\": \"\",\n",
      "            \"f_dsl\": \"{\\\"components\\\": {\\\"secure_add_example_0\\\": {\\\"module\\\": \\\"SecureAddExample\\\"}}}\",\n",
      "            \"f_elapsed\": null,\n",
      "            \"f_end_time\": null,\n",
      "            \"f_initiator_party_id\": \"10000\",\n",
      "            \"f_is_initiator\": 1,\n",
      "            \"f_job_id\": \"2020041711055647106311\",\n",
      "            \"f_name\": \"\",\n",
      "            \"f_party_id\": \"10000\",\n",
      "            \"f_progress\": 0,\n",
      "            \"f_role\": \"guest\",\n",
      "            \"f_roles\": \"{\\\"guest\\\": [10000], \\\"host\\\": [10000]}\",\n",
      "            \"f_run_ip\": \"172.17.0.12:9380\",\n",
      "            \"f_runtime_conf\": \"{\\\"initiator\\\": {\\\"role\\\": \\\"guest\\\", \\\"party_id\\\": 10000}, \\\"job_parameters\\\": {\\\"work_mode\\\": 1, \\\"model_id\\\": \\\"guest-10000#host-10000#model\\\", \\\"model_version\\\": \\\"2020041711055647106311\\\"}, \\\"role\\\": {\\\"guest\\\": [10000], \\\"host\\\": [10000]}, \\\"role_parameters\\\": {\\\"guest\\\": {\\\"secure_add_example_0\\\": {\\\"seed\\\": [123]}}, \\\"host\\\": {\\\"secure_add_example_0\\\": {\\\"seed\\\": [321]}}}, \\\"algorithm_parameters\\\": {\\\"secure_add_example_0\\\": {\\\"partition\\\": 10, \\\"data_num\\\": 1000}}}\",\n",
      "            \"f_start_time\": 1587121556910,\n",
      "            \"f_status\": \"running\",\n",
      "            \"f_tag\": \"\",\n",
      "            \"f_train_runtime_conf\": \"{}\",\n",
      "            \"f_update_time\": 1587121556910,\n",
      "            \"f_work_mode\": 1\n",
      "        },\n",
      "        {\n",
      "            \"f_create_time\": 1587121556476,\n",
      "            \"f_current_steps\": null,\n",
      "            \"f_current_tasks\": null,\n",
      "            \"f_description\": \"\",\n",
      "            \"f_dsl\": \"{\\\"components\\\": {\\\"secure_add_example_0\\\": {\\\"module\\\": \\\"SecureAddExample\\\"}}}\",\n",
      "            \"f_elapsed\": null,\n",
      "            \"f_end_time\": null,\n",
      "            \"f_initiator_party_id\": \"10000\",\n",
      "            \"f_is_initiator\": 0,\n",
      "            \"f_job_id\": \"2020041711055647106311\",\n",
      "            \"f_name\": \"\",\n",
      "            \"f_party_id\": \"10000\",\n",
      "            \"f_progress\": 0,\n",
      "            \"f_role\": \"host\",\n",
      "            \"f_roles\": \"{\\\"guest\\\": [10000], \\\"host\\\": [10000]}\",\n",
      "            \"f_run_ip\": \"172.17.0.12:9380\",\n",
      "            \"f_runtime_conf\": \"{\\\"initiator\\\": {\\\"role\\\": \\\"guest\\\", \\\"party_id\\\": 10000}, \\\"job_parameters\\\": {\\\"work_mode\\\": 1, \\\"model_id\\\": \\\"guest-10000#host-10000#model\\\", \\\"model_version\\\": \\\"2020041711055647106311\\\"}, \\\"role\\\": {\\\"guest\\\": [10000], \\\"host\\\": [10000]}, \\\"role_parameters\\\": {\\\"guest\\\": {\\\"secure_add_example_0\\\": {\\\"seed\\\": [123]}}, \\\"host\\\": {\\\"secure_add_example_0\\\": {\\\"seed\\\": [321]}}}, \\\"algorithm_parameters\\\": {\\\"secure_add_example_0\\\": {\\\"partition\\\": 10, \\\"data_num\\\": 1000}}}\",\n",
      "            \"f_start_time\": 1587121556910,\n",
      "            \"f_status\": \"running\",\n",
      "            \"f_tag\": \"\",\n",
      "            \"f_train_runtime_conf\": \"{}\",\n",
      "            \"f_update_time\": 1587121556910,\n",
      "            \"f_work_mode\": 1\n",
      "        }\n",
      "    ],\n",
      "    \"retcode\": 0,\n",
      "    \"retmsg\": \"success\"\n",
      "}\n"
     ]
    },
    {
     "data": {
      "text/plain": [
       "<Response [200]>"
      ]
     },
     "execution_count": 4,
     "metadata": {},
     "output_type": "execute_result"
    }
   ],
   "source": [
    "query_condition = {\n",
    "    \"job_id\":jobid\n",
    "}\n",
    "job_status = manager.query_job(query_condition)\n",
    "manager.prettify(job_status, True)"
   ]
  },
  {
   "cell_type": "code",
   "execution_count": 5,
   "metadata": {},
   "outputs": [
    {
     "name": "stdout",
     "output_type": "stream",
     "text": [
      "running\n",
      "running\n",
      "running\n",
      "running\n",
      "running\n",
      "running\n",
      "success\n",
      "Success\n"
     ]
    }
   ],
   "source": [
    "for i in range(500):\n",
    "    time.sleep(1)\n",
    "    job_detail = manager.query_job(query_condition).json()\n",
    "    final_status = job_detail[\"data\"][0][\"f_status\"]\n",
    "    print(final_status)\n",
    "    \n",
    "    if final_status == \"failed\":\n",
    "        print(\"Failed\")\n",
    "        break\n",
    "    if final_status == \"success\":\n",
    "        print(\"Success\")\n",
    "        break"
   ]
  },
  {
   "cell_type": "code",
   "execution_count": 6,
   "metadata": {},
   "outputs": [
    {
     "name": "stdout",
     "output_type": "stream",
     "text": [
      "{'retcode': 0, 'directory': './job_2020041711055647106311_log', 'retmsg': 'download successfully, please check ./job_2020041711055647106311_log directory, file name is job_2020041711055647106311_log.tar.gz'}\n"
     ]
    }
   ],
   "source": [
    "response = manager.fetch_job_log(jobid)"
   ]
  },
  {
   "cell_type": "code",
   "execution_count": null,
   "metadata": {},
   "outputs": [],
   "source": []
  }
 ],
 "metadata": {
  "kernelspec": {
   "display_name": "Python 3",
   "language": "python",
   "name": "python3"
  },
  "language_info": {
   "codemirror_mode": {
    "name": "ipython",
    "version": 3
   },
   "file_extension": ".py",
   "mimetype": "text/x-python",
   "name": "python",
   "nbconvert_exporter": "python",
   "pygments_lexer": "ipython3",
   "version": "3.6.5"
  }
 },
 "nbformat": 4,
 "nbformat_minor": 2
}
