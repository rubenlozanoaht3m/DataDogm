{
 "cells": [
  {
   "cell_type": "code",
   "execution_count": 1,
   "metadata": {},
   "outputs": [],
   "source": [
    "import fml_manager\n",
    "import json, time, requests"
   ]
  },
  {
   "cell_type": "code",
   "execution_count": 2,
   "metadata": {},
   "outputs": [
    {
     "name": "stdout",
     "output_type": "stream",
     "text": [
      "Success!\n",
      "{\n",
      "    \"data\": {\n",
      "        \"board_url\": \"http://fateboard:8080/index.html#/dashboard?job_id=202004020701211616055&role=local&party_id=0\",\n",
      "        \"job_dsl_path\": \"/data/projects/fate/python/jobs/202004020701211616055/job_dsl.json\",\n",
      "        \"job_runtime_conf_path\": \"/data/projects/fate/python/jobs/202004020701211616055/job_runtime_conf.json\",\n",
      "        \"logs_directory\": \"/data/projects/fate/python/logs/202004020701211616055\",\n",
      "        \"namespace\": \"motor_mini\",\n",
      "        \"table_name\": \"motor_mini_b\"\n",
      "    },\n",
      "    \"jobId\": \"202004020701211616055\",\n",
      "    \"retcode\": 0,\n",
      "    \"retmsg\": \"success\"\n",
      "}\n"
     ]
    },
    {
     "data": {
      "text/plain": [
       "<Response [200]>"
      ]
     },
     "execution_count": 2,
     "metadata": {},
     "output_type": "execute_result"
    }
   ],
   "source": [
    "manager = fml_manager.FMLManager()\n",
    "response = manager.load_data(\"https://raw.githubusercontent.com/FederatedAI/FATE/master/examples/data/motor_mini_b.csv\", \"motor_mini\", \"motor_mini_b\", 1, 1, 10)\n",
    "manager.prettify(response,True)"
   ]
  },
  {
   "cell_type": "code",
   "execution_count": 3,
   "metadata": {},
   "outputs": [
    {
     "name": "stdout",
     "output_type": "stream",
     "text": [
      "Success!\n",
      "{\n",
      "    \"data\": [\n",
      "        {\n",
      "            \"202004020701211616055\": {\n",
      "                \"meta\": {\n",
      "                    \"header\": \"motor_speed,pm,stator_yoke,stator_tooth,stator_winding\",\n",
      "                    \"sid\": \"idx\"\n",
      "                },\n",
      "                \"notes\": \"\",\n",
      "                \"upload_info\": {\n",
      "                    \"namespace\": \"motor_mini\",\n",
      "                    \"partition\": 10,\n",
      "                    \"table_name\": \"motor_mini_b\"\n",
      "                }\n",
      "            }\n",
      "        }\n",
      "    ],\n",
      "    \"retcode\": 0,\n",
      "    \"retmsg\": \"success\"\n",
      "}\n"
     ]
    },
    {
     "data": {
      "text/plain": [
       "<Response [200]>"
      ]
     },
     "execution_count": 3,
     "metadata": {},
     "output_type": "execute_result"
    }
   ],
   "source": [
    "response = manager.query_data(202004020701211616055, 100)\n",
    "manager.prettify(response,True)"
   ]
  },
  {
   "cell_type": "code",
   "execution_count": null,
   "metadata": {},
   "outputs": [],
   "source": []
  }
 ],
 "metadata": {
  "kernelspec": {
   "display_name": "Python 3",
   "language": "python",
   "name": "python3"
  },
  "language_info": {
   "codemirror_mode": {
    "name": "ipython",
    "version": 3
   },
   "file_extension": ".py",
   "mimetype": "text/x-python",
   "name": "python",
   "nbconvert_exporter": "python",
   "pygments_lexer": "ipython3",
   "version": "3.6.5"
  }
 },
 "nbformat": 4,
 "nbformat_minor": 2
}
